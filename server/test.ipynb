{
 "cells": [
  {
   "cell_type": "code",
   "execution_count": 1,
   "metadata": {},
   "outputs": [],
   "source": [
    "from azure.cognitiveservices.vision.customvision.prediction import CustomVisionPredictionClient\n",
    "from msrest.authentication import ApiKeyCredentials\n"
   ]
  },
  {
   "cell_type": "code",
   "execution_count": 4,
   "metadata": {},
   "outputs": [
    {
     "name": "stdout",
     "output_type": "stream",
     "text": [
      "<azure.cognitiveservices.vision.customvision.prediction._custom_vision_prediction_client.CustomVisionPredictionClient object at 0x000002C4AD478BB0>\n"
     ]
    }
   ],
   "source": [
    "predictionKey = \"d7b31da25374446984bc954ef90fd056\"\n",
    "endPoint = \"https://imindanger.cognitiveservices.azure.com/\"\n",
    "projectId = \"883de85d-286b-4ca3-80cf-cbb7af5ce0b9\"\n",
    "iterationName = \"animalsInDanger\"\n",
    "\n",
    "predictionCredentials = ApiKeyCredentials(in_headers={'Prediction-Key': predictionKey})\n",
    "predictor = CustomVisionPredictionClient(endPoint, predictionCredentials)\n",
    "print (predictor)"
   ]
  },
  {
   "cell_type": "code",
   "execution_count": 5,
   "metadata": {},
   "outputs": [
    {
     "ename": "CustomVisionErrorException",
     "evalue": "Operation returned an invalid status code 'Access Denied'",
     "output_type": "error",
     "traceback": [
      "\u001b[1;31m---------------------------------------------------------------------------\u001b[0m",
      "\u001b[1;31mCustomVisionErrorException\u001b[0m                Traceback (most recent call last)",
      "\u001b[1;32mc:\\AImInDanger\\server\\test.ipynb Cell 3'\u001b[0m in \u001b[0;36m<module>\u001b[1;34m\u001b[0m\n\u001b[0;32m      <a href='vscode-notebook-cell:/c%3A/AImInDanger/server/test.ipynb#ch0000002?line=0'>1</a>\u001b[0m \u001b[39mwith\u001b[39;00m \u001b[39mopen\u001b[39m(\u001b[39m\"\u001b[39m\u001b[39mC:/AImInDanger/src/assets/images/ballena00.jpg\u001b[39m\u001b[39m\"\u001b[39m, mode\u001b[39m=\u001b[39m \u001b[39m\"\u001b[39m\u001b[39mrb\u001b[39m\u001b[39m\"\u001b[39m) \u001b[39mas\u001b[39;00m test_data:\n\u001b[1;32m----> <a href='vscode-notebook-cell:/c%3A/AImInDanger/server/test.ipynb#ch0000002?line=1'>2</a>\u001b[0m     results \u001b[39m=\u001b[39m predictor\u001b[39m.\u001b[39;49mclassify_image(projectId, iterationName, test_data)\n\u001b[0;32m      <a href='vscode-notebook-cell:/c%3A/AImInDanger/server/test.ipynb#ch0000002?line=3'>4</a>\u001b[0m speciesInDanger \u001b[39m=\u001b[39m results\u001b[39m.\u001b[39mtag_name\n\u001b[0;32m      <a href='vscode-notebook-cell:/c%3A/AImInDanger/server/test.ipynb#ch0000002?line=4'>5</a>\u001b[0m speciesProbability \u001b[39m=\u001b[39m (results\u001b[39m.\u001b[39mprobability\u001b[39m*\u001b[39m\u001b[39m100\u001b[39m)\n",
      "File \u001b[1;32mc:\\Python310\\lib\\site-packages\\azure\\cognitiveservices\\vision\\customvision\\prediction\\operations\\_custom_vision_prediction_client_operations.py:76\u001b[0m, in \u001b[0;36mCustomVisionPredictionClientOperationsMixin.classify_image\u001b[1;34m(self, project_id, published_name, image_data, application, custom_headers, raw, **operation_config)\u001b[0m\n\u001b[0;32m     <a href='file:///c%3A/Python310/lib/site-packages/azure/cognitiveservices/vision/customvision/prediction/operations/_custom_vision_prediction_client_operations.py?line=72'>73</a>\u001b[0m response \u001b[39m=\u001b[39m \u001b[39mself\u001b[39m\u001b[39m.\u001b[39m_client\u001b[39m.\u001b[39msend(request, stream\u001b[39m=\u001b[39m\u001b[39mFalse\u001b[39;00m, \u001b[39m*\u001b[39m\u001b[39m*\u001b[39moperation_config)\n\u001b[0;32m     <a href='file:///c%3A/Python310/lib/site-packages/azure/cognitiveservices/vision/customvision/prediction/operations/_custom_vision_prediction_client_operations.py?line=74'>75</a>\u001b[0m \u001b[39mif\u001b[39;00m response\u001b[39m.\u001b[39mstatus_code \u001b[39mnot\u001b[39;00m \u001b[39min\u001b[39;00m [\u001b[39m200\u001b[39m]:\n\u001b[1;32m---> <a href='file:///c%3A/Python310/lib/site-packages/azure/cognitiveservices/vision/customvision/prediction/operations/_custom_vision_prediction_client_operations.py?line=75'>76</a>\u001b[0m     \u001b[39mraise\u001b[39;00m models\u001b[39m.\u001b[39mCustomVisionErrorException(\u001b[39mself\u001b[39m\u001b[39m.\u001b[39m_deserialize, response)\n\u001b[0;32m     <a href='file:///c%3A/Python310/lib/site-packages/azure/cognitiveservices/vision/customvision/prediction/operations/_custom_vision_prediction_client_operations.py?line=77'>78</a>\u001b[0m deserialized \u001b[39m=\u001b[39m \u001b[39mNone\u001b[39;00m\n\u001b[0;32m     <a href='file:///c%3A/Python310/lib/site-packages/azure/cognitiveservices/vision/customvision/prediction/operations/_custom_vision_prediction_client_operations.py?line=78'>79</a>\u001b[0m \u001b[39mif\u001b[39;00m response\u001b[39m.\u001b[39mstatus_code \u001b[39m==\u001b[39m \u001b[39m200\u001b[39m:\n",
      "\u001b[1;31mCustomVisionErrorException\u001b[0m: Operation returned an invalid status code 'Access Denied'"
     ]
    }
   ],
   "source": [
    "with open(\"C:/AImInDanger/src/assets/images/ballena00.jpg\", mode= \"rb\") as test_data:\n",
    "    results = predictor.classify_image(projectId, iterationName, test_data)\n",
    "\n",
    "speciesInDanger = results.tag_name\n",
    "speciesProbability = (results.probability*100)\n",
    "\n",
    "print(speciesInDanger)\n",
    "print(speciesProbability)"
   ]
  }
 ],
 "metadata": {
  "interpreter": {
   "hash": "369f2c481f4da34e4445cda3fffd2e751bd1c4d706f27375911949ba6bb62e1c"
  },
  "kernelspec": {
   "display_name": "Python 3.10.4 64-bit",
   "language": "python",
   "name": "python3"
  },
  "language_info": {
   "codemirror_mode": {
    "name": "ipython",
    "version": 3
   },
   "file_extension": ".py",
   "mimetype": "text/x-python",
   "name": "python",
   "nbconvert_exporter": "python",
   "pygments_lexer": "ipython3",
   "version": "3.10.4"
  },
  "orig_nbformat": 4
 },
 "nbformat": 4,
 "nbformat_minor": 2
}
